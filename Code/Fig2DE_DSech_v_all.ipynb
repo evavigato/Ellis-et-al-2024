{
 "cells": [
  {
   "cell_type": "code",
   "execution_count": 1,
   "id": "aquatic-baseball",
   "metadata": {},
   "outputs": [],
   "source": [
    "import helper_functions"
   ]
  },
  {
   "cell_type": "code",
   "execution_count": 2,
   "id": "abroad-overall",
   "metadata": {},
   "outputs": [],
   "source": [
    "from scipy.spatial import *\n",
    "import numpy as np\n",
    "import matplotlib.pyplot as plt\n",
    "import pandas as pd\n",
    "import seaborn as sns\n",
    "from sklearn.decomposition import PCA\n",
    "from sklearn import preprocessing\n",
    "from matplotlib.ticker import MaxNLocator"
   ]
  },
  {
   "cell_type": "code",
   "execution_count": 3,
   "id": "64a0f1ea",
   "metadata": {},
   "outputs": [],
   "source": [
    "def extract_connectivity_mat(dataset_key):\n",
    "    dat = pd.read_csv('../Data/'+dataset_key+'.csv')\n",
    "    dat = dat.drop(columns=['other'])\n",
    "    unnamed_cols = list(dat.columns[np.where(np.array(['Unnamed' in col for col in dat.columns]) == True)[0]])\n",
    "    dat = dat.drop(columns=unnamed_cols)\n",
    "    dat = dat.rename(columns={\"vc3\": \"vc3l\", 'vm7':'vm7d', '1':'vm7v'})\n",
    "    dat = dat.sort_index(axis='columns')\n",
    "    dat = dat.replace(np.nan, int(0))\n",
    "    dat = dat > 0\n",
    "    dat = dat.astype(int)\n",
    "\n",
    "    return dat"
   ]
  },
  {
   "cell_type": "code",
   "execution_count": 4,
   "id": "ccd946ad",
   "metadata": {},
   "outputs": [],
   "source": [
    "W_Ellis_Mel_F = extract_connectivity_mat('Ellis_DMel_female')\n",
    "W_Ellis_Mel_M = extract_connectivity_mat('Ellis_DMel_male')\n",
    "W_Ellis_Sech = extract_connectivity_mat('Ellis_DSec_female')\n",
    "W_Ellis_Sim = extract_connectivity_mat('Ellis_DSim_female')"
   ]
  },
  {
   "cell_type": "code",
   "execution_count": 5,
   "id": "3ea48441",
   "metadata": {},
   "outputs": [],
   "source": [
    "# Compute base connection probabilities\n",
    "def conn_probs(W):\n",
    "    # needs kcxpn\n",
    "    acp = np.mean(W>0,0)\n",
    "    acp = acp / np.sum(acp)\n",
    "    return acp"
   ]
  },
  {
   "cell_type": "code",
   "execution_count": 6,
   "id": "0c872a9b",
   "metadata": {},
   "outputs": [],
   "source": [
    "acp_sech = conn_probs(W_Ellis_Sech)"
   ]
  },
  {
   "cell_type": "code",
   "execution_count": 7,
   "id": "06a06c37",
   "metadata": {},
   "outputs": [],
   "source": [
    "# for 1000 shuffles, compute acp\n",
    "num_shuffles = 1000\n",
    "all_acp_mel_f = []\n",
    "all_acp_sim = []\n",
    "all_acp_mel_m = []\n",
    "for iter in range(num_shuffles):\n",
    "    W_shuff_mel_f = helper_functions.fixed_pn_fixed_kc(W_Ellis_Mel_F.T)\n",
    "    W_shuff_mel_m = helper_functions.fixed_pn_fixed_kc(W_Ellis_Mel_M.T)\n",
    "    W_shuff_sim = helper_functions.fixed_pn_fixed_kc(W_Ellis_Sim.T)\n",
    "\n",
    "    all_acp_mel_f.append(conn_probs(W_shuff_mel_f.T))\n",
    "    all_acp_mel_m.append(conn_probs(W_shuff_mel_m.T))\n",
    "    all_acp_sim.append(conn_probs(W_shuff_sim.T))\n"
   ]
  },
  {
   "cell_type": "code",
   "execution_count": 8,
   "id": "28e528e3",
   "metadata": {},
   "outputs": [],
   "source": [
    "# Compute p-values\n",
    "num_gloms = W_Ellis_Sech.shape[1]\n",
    "per_glom = np.zeros(num_gloms)\n",
    "for iter in range(num_shuffles):\n",
    "    for glom in range(num_gloms):\n",
    "        if (acp_sech[glom] <= all_acp_mel_f[iter][glom]) or (acp_sech[glom] <= all_acp_sim[iter][glom]) or (acp_sech[glom] <= all_acp_mel_m[iter][glom]):\n",
    "            per_glom[glom] = per_glom[glom] + 1"
   ]
  },
  {
   "cell_type": "code",
   "execution_count": 9,
   "id": "91604fdb",
   "metadata": {},
   "outputs": [],
   "source": [
    "p_values = per_glom/1000"
   ]
  },
  {
   "cell_type": "code",
   "execution_count": 10,
   "id": "5741e698",
   "metadata": {},
   "outputs": [],
   "source": [
    "both_fixed = pd.DataFrame({'glomerulus': W_Ellis_Sech.columns, 'p_value': p_values})"
   ]
  },
  {
   "cell_type": "code",
   "execution_count": 28,
   "id": "80658bcc",
   "metadata": {},
   "outputs": [],
   "source": [
    "both_fixed.to_csv('kc_fixed_less.csv')"
   ]
  }
 ],
 "metadata": {
  "kernelspec": {
   "display_name": "Python 3.10.6 ('connectome')",
   "language": "python",
   "name": "python3"
  },
  "language_info": {
   "codemirror_mode": {
    "name": "ipython",
    "version": 3
   },
   "file_extension": ".py",
   "mimetype": "text/x-python",
   "name": "python",
   "nbconvert_exporter": "python",
   "pygments_lexer": "ipython3",
   "version": "3.10.6"
  },
  "vscode": {
   "interpreter": {
    "hash": "bc2cbd0fdb47782bd2f07295a13d670c7a5ab581327529ac0513b7f0bd9addf9"
   }
  }
 },
 "nbformat": 4,
 "nbformat_minor": 5
}
